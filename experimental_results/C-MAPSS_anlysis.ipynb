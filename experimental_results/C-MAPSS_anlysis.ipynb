{
 "cells": [
  {
   "cell_type": "code",
   "execution_count": 1,
   "id": "8ad70760",
   "metadata": {},
   "outputs": [],
   "source": [
    "import os\n",
    "import numpy as np\n",
    "import pandas as pd\n",
    "import seaborn as sns\n",
    "import scipy.stats as stats\n",
    "import matplotlib.pyplot as plt\n",
    "\n",
    "sns.set_theme()\n",
    "sns.set_style(\"white\")"
   ]
  },
  {
   "cell_type": "code",
   "execution_count": 2,
   "id": "a24074b4",
   "metadata": {},
   "outputs": [],
   "source": [
    "def compute_col_stats(df: pd.DataFrame, col_to_calc_stats_on: str):\n",
    "    \n",
    "    ruls = []\n",
    "    unit_min_life_time = None    \n",
    "    unit_max_life_time = None\n",
    "    \n",
    "    for unit in df[\"unit\"].unique().tolist():\n",
    "        unit_max_col_value = df.query(f\"unit=={unit}\")[col_to_calc_stats_on].max()\n",
    "        ruls.append(unit_max_col_value)\n",
    "        \n",
    "        # Find the unit with the SMALLEST 'unit_max_col_value'\n",
    "        if unit_max_col_value <= min(ruls) and len(ruls) > 0:\n",
    "                unit_min_life = unit\n",
    "        \n",
    "        # Find the unit with the LARGEST 'unit_max_col_value'\n",
    "        if unit_max_col_value >= max(ruls) and len(ruls) > 0:\n",
    "                unit_max_life_time = unit\n",
    "    \n",
    "    ruls_min = np.min(ruls)\n",
    "    ruls_max = np.max(ruls)\n",
    "    ruls_mean = np.mean(ruls)\n",
    "    ruls_median = np.median(ruls)\n",
    "    ruls_std = np.std(ruls)\n",
    "\n",
    "    print(f\"'{col_to_calc_stats_on}' Minimum: {ruls_min: .2f} (unit={unit_min_life})\")\n",
    "    print(f\"'{col_to_calc_stats_on}' Maximum: {ruls_max: .2f} (unit={unit_max_life_time})\")\n",
    "    print(f\"'{col_to_calc_stats_on}' Mean: {ruls_mean: .2f}\")\n",
    "    print(f\"'{col_to_calc_stats_on}' Median: {ruls_median: .2f}\")\n",
    "    print(f\"'{col_to_calc_stats_on}' Standard Dev: {ruls_std: .2f}\\n\")\n",
    "    \n",
    "    return ruls"
   ]
  },
  {
   "cell_type": "code",
   "execution_count": 3,
   "id": "72baab37",
   "metadata": {},
   "outputs": [],
   "source": [
    "def plot_operatoinal_life_time_dist(df: pd.DataFrame, col: str):\n",
    "    cycles_list = []\n",
    "    for unit in df[\"unit\"].unique().tolist():\n",
    "        unit_max_cycles = df.query(f\"unit=={unit}\")[col].iloc[-1]\n",
    "        cycles_list.append(unit_max_cycles)\n",
    "\n",
    "    sns.displot(x=cycles_list, kde=True)"
   ]
  },
  {
   "cell_type": "code",
   "execution_count": 4,
   "id": "c345f482",
   "metadata": {},
   "outputs": [],
   "source": [
    "AE_labels = \"AutoEncoder\"\n",
    "\n",
    "FD001_AE_LABELS = f\"FD001_train_unsupervised_labels_{AE_labels}.csv\"\n",
    "FD002_AE_LABELS = f\"FD002_train_unsupervised_labels_{AE_labels}.csv\"\n",
    "FD003_AE_LABELS = f\"FD003_train_unsupervised_labels_{AE_labels}.csv\"\n",
    "FD004_AE_LABELS = f\"FD004_train_unsupervised_labels_{AE_labels}.csv\"\n",
    "\n",
    "path_to_data_dir = \"/Users/rafaeltoche/Documents/School/Research/\" \\\n",
    "                       \"Rainwaters_Lab/DART-LP2/Condition_Monitoring/NASA_turbofan_data/train\""
   ]
  },
  {
   "cell_type": "code",
   "execution_count": 5,
   "id": "0e21fc37",
   "metadata": {},
   "outputs": [],
   "source": [
    "df_FD001 = pd.read_csv(os.path.join(path_to_data_dir, FD001_AE_LABELS))\n",
    "df_FD002 = pd.read_csv(os.path.join(path_to_data_dir, FD002_AE_LABELS))\n",
    "df_FD003 = pd.read_csv(os.path.join(path_to_data_dir, FD003_AE_LABELS))\n",
    "df_FD004 = pd.read_csv(os.path.join(path_to_data_dir, FD004_AE_LABELS))"
   ]
  },
  {
   "cell_type": "code",
   "execution_count": 6,
   "id": "e7648627",
   "metadata": {
    "scrolled": false
   },
   "outputs": [
    {
     "name": "stdout",
     "output_type": "stream",
     "text": [
      "FD001 Stats\n",
      "------------------------------------------\n",
      "'cycle' Minimum:  128.00 (unit=39)\n",
      "'cycle' Maximum:  362.00 (unit=69)\n",
      "'cycle' Mean:  206.31\n",
      "'cycle' Median:  199.00\n",
      "'cycle' Standard Dev:  46.11\n",
      "\n",
      "FD002 Stats\n",
      "------------------------------------------\n",
      "'cycle' Minimum:  128.00 (unit=244)\n",
      "'cycle' Maximum:  378.00 (unit=112)\n",
      "'cycle' Mean:  206.77\n",
      "'cycle' Median:  199.00\n",
      "'cycle' Standard Dev:  46.69\n",
      "\n",
      "FD003 Stats\n",
      "------------------------------------------\n",
      "'cycle' Minimum:  145.00 (unit=99)\n",
      "'cycle' Maximum:  525.00 (unit=55)\n",
      "'cycle' Mean:  247.20\n",
      "'cycle' Median:  220.50\n",
      "'cycle' Standard Dev:  86.05\n",
      "\n",
      "FD004 Stats\n",
      "------------------------------------------\n",
      "'cycle' Minimum:  128.00 (unit=214)\n",
      "'cycle' Maximum:  543.00 (unit=118)\n",
      "'cycle' Mean:  245.98\n",
      "'cycle' Median:  234.00\n",
      "'cycle' Standard Dev:  72.96\n"
     ]
    }
   ],
   "source": [
    "print(\"FD001 Stats\")\n",
    "print(\"------------------------------------------\")\n",
    "cycles_FD001 = compute_col_stats(df_FD001, col_to_calc_stats_on=\"cycle\")\n",
    "\n",
    "print(\"FD002 Stats\")\n",
    "print(\"------------------------------------------\")\n",
    "cycles_FD002 = compute_col_stats(df_FD002, col_to_calc_stats_on=\"cycle\")\n",
    "\n",
    "print(\"FD003 Stats\")\n",
    "print(\"------------------------------------------\")\n",
    "cycles_FD003 = compute_col_stats(df_FD003, col_to_calc_stats_on=\"cycle\")\n",
    "\n",
    "print(\"FD004 Stats\")\n",
    "print(\"------------------------------------------\")\n",
    "cycles_FD004 = compute_col_stats(df_FD004, col_to_calc_stats_on=\"cycle\")"
   ]
  },
  {
   "cell_type": "code",
   "execution_count": 8,
   "id": "a39619dc",
   "metadata": {},
   "outputs": [
    {
     "name": "stdout",
     "output_type": "stream",
     "text": [
      "FD001 RUL Stats\n",
      "------------------------------------------\n",
      "'RUL' Minimum:  127.00 (unit=39)\n",
      "'RUL' Maximum:  361.00 (unit=69)\n",
      "'RUL' Mean:  205.31\n",
      "'RUL' Median:  198.00\n",
      "'RUL' Standard Dev:  46.11\n",
      "\n",
      "FD002 RUL Stats\n",
      "------------------------------------------\n",
      "'RUL' Minimum:  127.00 (unit=244)\n",
      "'RUL' Maximum:  377.00 (unit=112)\n",
      "'RUL' Mean:  205.77\n",
      "'RUL' Median:  198.00\n",
      "'RUL' Standard Dev:  46.69\n",
      "\n",
      "FD003 RUL Stats\n",
      "------------------------------------------\n",
      "'RUL' Minimum:  144.00 (unit=99)\n",
      "'RUL' Maximum:  524.00 (unit=55)\n",
      "'RUL' Mean:  246.20\n",
      "'RUL' Median:  219.50\n",
      "'RUL' Standard Dev:  86.05\n",
      "\n",
      "FD004 RUL  Stats\n",
      "------------------------------------------\n",
      "'RUL' Minimum:  127.00 (unit=214)\n",
      "'RUL' Maximum:  542.00 (unit=118)\n",
      "'RUL' Mean:  244.98\n",
      "'RUL' Median:  233.00\n",
      "'RUL' Standard Dev:  72.96\n"
     ]
    }
   ],
   "source": [
    "print(\"FD001 RUL Stats\")\n",
    "print(\"------------------------------------------\")\n",
    "rul_FD001 = compute_col_stats(df_FD001, col_to_calc_stats_on=\"RUL\")\n",
    "\n",
    "print(\"FD002 RUL Stats\")\n",
    "print(\"------------------------------------------\")\n",
    "rul_FD002 = compute_col_stats(df_FD002, col_to_calc_stats_on=\"RUL\")\n",
    "\n",
    "print(\"FD003 RUL Stats\")\n",
    "print(\"------------------------------------------\")\n",
    "rul_FD003 = compute_col_stats(df_FD003, col_to_calc_stats_on=\"RUL\")\n",
    "\n",
    "print(\"FD004 RUL  Stats\")\n",
    "print(\"------------------------------------------\")\n",
    "rul_FD004 = compute_col_stats(df_FD004, col_to_calc_stats_on=\"RUL\")"
   ]
  },
  {
   "cell_type": "code",
   "execution_count": null,
   "id": "030b5ec6",
   "metadata": {},
   "outputs": [],
   "source": [
    "plot_operatoinal_life_time_dist(df_FD001, col=\"cycle\")"
   ]
  },
  {
   "cell_type": "code",
   "execution_count": null,
   "id": "28e5a5d4",
   "metadata": {},
   "outputs": [],
   "source": [
    "plot_operatoinal_life_time_dist(df_FD002, col=\"cycle\")"
   ]
  },
  {
   "cell_type": "code",
   "execution_count": null,
   "id": "34bfe7f3",
   "metadata": {},
   "outputs": [],
   "source": [
    "plot_operatoinal_life_time_dist(df_FD003, col=\"cycle\")"
   ]
  },
  {
   "cell_type": "code",
   "execution_count": null,
   "id": "ba56ee0e",
   "metadata": {},
   "outputs": [],
   "source": [
    "plot_operatoinal_life_time_dist(df_FD004, col=\"cycle\")"
   ]
  },
  {
   "cell_type": "code",
   "execution_count": null,
   "id": "3af70726",
   "metadata": {},
   "outputs": [],
   "source": [
    "\n",
    "# for i, unit in enumerate(df_FD001[\"unit\"].unique().tolist()):\n",
    "    "
   ]
  }
 ],
 "metadata": {
  "kernelspec": {
   "display_name": "DART-RESULTS",
   "language": "python",
   "name": "dart-results"
  },
  "language_info": {
   "codemirror_mode": {
    "name": "ipython",
    "version": 3
   },
   "file_extension": ".py",
   "mimetype": "text/x-python",
   "name": "python",
   "nbconvert_exporter": "python",
   "pygments_lexer": "ipython3",
   "version": "3.10.13"
  }
 },
 "nbformat": 4,
 "nbformat_minor": 5
}
